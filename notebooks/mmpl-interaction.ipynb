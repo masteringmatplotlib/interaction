{
 "metadata": {
  "name": "",
  "signature": "sha256:5dcc55df23c4df1cae47ceab5f19b9b39763bfb56c142e55f88de34ca549e432"
 },
 "nbformat": 3,
 "nbformat_minor": 0,
 "worksheets": [
  {
   "cells": [
    {
     "cell_type": "markdown",
     "metadata": {},
     "source": [
      "# Event Handling and Interactive Plots\n",
      "\n",
      "In the following sections of this IPython Notebook we be looking at the following:\n",
      "\n",
      "* matplotlib's event loop support\n",
      "* Event handling\n",
      "* Interactive panning and zooming of figures\n",
      "* Mouse events\n",
      "* Axes events\n",
      "* Object picking\n",
      "\n",
      "Warm-up proceedures:"
     ]
    },
    {
     "cell_type": "code",
     "collapsed": false,
     "input": [
      "import matplotlib\n",
      "matplotlib.use('nbagg')\n",
      "%matplotlib inline\n",
      "import numpy as np\n",
      "import matplotlib.pyplot as plt\n",
      "import matplotlib as mpl\n",
      "import seaborn as sns"
     ],
     "language": "python",
     "metadata": {},
     "outputs": [],
     "prompt_number": 1
    },
    {
     "cell_type": "markdown",
     "metadata": {},
     "source": [
      "Let's set up our colors for this notebook:"
     ]
    },
    {
     "cell_type": "code",
     "collapsed": false,
     "input": [
      "pallete_name = \"husl\"\n",
      "colors = sns.color_palette(pallete_name, 8)\n",
      "colors.reverse()\n",
      "cmap = mpl.colors.LinearSegmentedColormap.from_list(pallete_name, colors) "
     ],
     "language": "python",
     "metadata": {},
     "outputs": [],
     "prompt_number": 2
    },
    {
     "cell_type": "markdown",
     "metadata": {},
     "source": [
      "## matplotlib's event loop support\n"
     ]
    }
   ],
   "metadata": {}
  }
 ]
}